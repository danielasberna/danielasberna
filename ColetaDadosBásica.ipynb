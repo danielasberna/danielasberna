{
  "nbformat": 4,
  "nbformat_minor": 0,
  "metadata": {
    "colab": {
      "provenance": [],
      "authorship_tag": "ABX9TyPNaJU9aUZXP6Psft067J0N",
      "include_colab_link": true
    },
    "kernelspec": {
      "name": "python3",
      "display_name": "Python 3"
    },
    "language_info": {
      "name": "python"
    }
  },
  "cells": [
    {
      "cell_type": "markdown",
      "metadata": {
        "id": "view-in-github",
        "colab_type": "text"
      },
      "source": [
        "<a href=\"https://colab.research.google.com/github/danielasberna/danielasberna/blob/main/ColetaDadosB%C3%A1sica.ipynb\" target=\"_parent\"><img src=\"https://colab.research.google.com/assets/colab-badge.svg\" alt=\"Open In Colab\"/></a>"
      ]
    },
    {
      "cell_type": "code",
      "execution_count": 4,
      "metadata": {
        "id": "NWKrrp8SJWu9",
        "colab": {
          "base_uri": "https://localhost:8080/"
        },
        "outputId": "c6c0843a-5a27-4fb1-fca3-7b9af5431761"
      },
      "outputs": [
        {
          "output_type": "stream",
          "name": "stdout",
          "text": [
            "Request:\n",
            "        <!doctype html>\n",
            "        <html lang=\"pt-BR\">\n",
            "\n",
            "        \n",
            "        <head>\n",
            "            <meta charset=\"UTF-8\">\n",
            "            <meta name=\"viewport\" content=\"width=device-width, initial-scale=1, shrink-to-fit=no\">\n",
            "\n",
            "            <style>\n",
            "                @charset \"UTF-8\";:root{--sapphire:#0091FF;--apatite:#32C5FF;--ruby:#FF5252;--xpamber:#F7B500;--gray:#6c757d;--amazonite:#44D7B6;--lightgray:#F5F7F8;--darkgray:#212121;--gray:#6C757D;--gray24:rgba(108, 117, 125, 0.24);--blue:#0091FF;--lightblue:#32C5FF;--yellow:#ffc709;--red:#FF5252;--emerald:#1eb980;--white:#ffffff}*{letter-spacing:normal!important}h\n",
            "\n",
            "BeautifulSoup:\n",
            "<!DOCTYPE html>\n",
            "<html lang=\"pt-BR\">\n",
            " <head>\n",
            "  <meta charset=\"utf-8\"/>\n",
            "  <meta content=\"width=device-width, initial-scale=1, shrink-to-fit=no\" name=\"viewport\"/>\n",
            "  <style>\n",
            "   @charset \"UTF-8\";:root{--sapphire:#0091FF;--apatite:#32C5FF;--ruby:#FF5252;--xpamber:#F7B500;--gray:#6c757d;--amazonite:#44D7B6;--lightgray:#F5F7F8;--darkgray:#212121;--gray:#6C757D;--gray24:rgba(108, 117, 125, 0.24);--blue:#0091FF;--lightblue:#32C5FF;--yellow:#ffc709;--red:#FF5252;--emerald:#1eb980;--white:#ffffff}*{letter-spacing:normal!important}html{scroll-behavior:smooth}body{font-family:\"Helvetica Neue\",\"Helvetica Neue LT Pro\",Helvetica,Arial,sans-serif;color:#000}a{color:var(--sapphire)}h1{letter-spacing:-.02em!important}p{font-weight:400!important}.hl-hat{display:block;font-size:.875rem;font-weight:400!important;line-height:16px;margin-bottom:4px;color:#666;width:100%}.hl-title{display:block}.hl-title a{color:#000}.hl-title-2{font-size:24px;line-height:28px;letter-spacing:-.01em!important;font-weight:700}.hl\n",
            "\n",
            "Pandas:\n",
            "                     0        1\n",
            "0  Fechamento anterior  140.110\n",
            "1             Abertura  139.636\n"
          ]
        },
        {
          "output_type": "stream",
          "name": "stderr",
          "text": [
            "<ipython-input-4-3b1f646f1178>:20: FutureWarning: Passing literal html to 'read_html' is deprecated and will be removed in a future version. To read from a literal string, wrap it in a 'StringIO' object.\n",
            "  url_dados = pandas.read_html(response.text)\n"
          ]
        }
      ],
      "source": [
        "import requests\n",
        "from bs4 import BeautifulSoup\n",
        "import pandas\n",
        "\n",
        "print('Request:')\n",
        "response = requests.get('https://www.infomoney.com.br/cotacoes/b3/indice/ibovespa/')\n",
        "\n",
        "# Check if the request was successful before proceeding\n",
        "if response.status_code != 200:\n",
        "    print(f\"Error fetching data: Status code {response.status_code}\")\n",
        "else:\n",
        "    print(response.text[:600])\n",
        "\n",
        "    print('\\nBeautifulSoup:')\n",
        "    soup = BeautifulSoup(response.text, features='html.parser')\n",
        "    print(soup.prettify()[:1000])\n",
        "\n",
        "    print('\\nPandas:')\n",
        "    # Pass the response text to pandas.read_html instead of the URL\n",
        "    url_dados = pandas.read_html(response.text)\n",
        "    print(url_dados[0].head(10))\n",
        "\n"
      ]
    },
    {
      "cell_type": "code",
      "source": [],
      "metadata": {
        "id": "Hcahc6vdLmfx"
      },
      "execution_count": null,
      "outputs": []
    }
  ]
}